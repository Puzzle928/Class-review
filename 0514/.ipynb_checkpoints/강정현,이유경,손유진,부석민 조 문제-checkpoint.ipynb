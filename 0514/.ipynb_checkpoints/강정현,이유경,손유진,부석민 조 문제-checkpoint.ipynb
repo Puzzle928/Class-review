{
 "cells": [
  {
   "cell_type": "markdown",
   "metadata": {},
   "source": [
    "# 성적에 맞는 등급을 적용하려고 한다\n",
    "\n",
    "1. 성적을 입력시 90점이상은 'A' 등급 80점대는 'B'등급 나머지는 'C'등급으로 하고자 한다."
   ]
  },
  {
   "cell_type": "code",
   "execution_count": 4,
   "metadata": {},
   "outputs": [
    {
     "name": "stdout",
     "output_type": "stream",
     "text": [
      "당신의 점수를 입력하시오. 80\n",
      "B등급 입니다.\n"
     ]
    }
   ],
   "source": [
    "score=input(\"당신의 점수를 입력하시오. \")\n",
    "\n",
    "def level(score):\n",
    "    if int(score) >= 90:\n",
    "        print(\"A등급 입니다.\")\n",
    "    elif int(score) < 90 and int(score) >= 80:\n",
    "        print(\"B등급 입니다.\")\n",
    "    else:\n",
    "        print(\"C등급 입니다.\")\n",
    "        \n",
    "level(score)"
   ]
  },
  {
   "cell_type": "markdown",
   "metadata": {},
   "source": [
    "# 1부터 100자리 숫자를 나열하고 그 중 짝수 조건에 해당하는 숫자만 가려내서 출력하고자 한다.\n",
    "\n",
    "2. 1부터 100까지의 숫자 중 짝수만 출력되게 하시오.\n",
    "    (단, 두자리 숫자만 출력되게하시오)\n"
   ]
  },
  {
   "cell_type": "code",
   "execution_count": 26,
   "metadata": {},
   "outputs": [
    {
     "name": "stdout",
     "output_type": "stream",
     "text": [
      "10\n",
      "12\n",
      "14\n",
      "16\n",
      "18\n",
      "20\n",
      "22\n",
      "24\n",
      "26\n",
      "28\n",
      "30\n",
      "32\n",
      "34\n",
      "36\n",
      "38\n",
      "40\n",
      "42\n",
      "44\n",
      "46\n",
      "48\n",
      "50\n",
      "52\n",
      "54\n",
      "56\n",
      "58\n",
      "60\n",
      "62\n",
      "64\n",
      "66\n",
      "68\n",
      "70\n",
      "72\n",
      "74\n",
      "76\n",
      "78\n",
      "80\n",
      "82\n",
      "84\n",
      "86\n",
      "88\n",
      "90\n",
      "92\n",
      "94\n",
      "96\n",
      "98\n"
     ]
    }
   ],
   "source": [
    "for data in range(1,101):\n",
    "    if int(data) % 2 == 0 and 0 < int(data) // 10 < 10:\n",
    "        print(data)"
   ]
  }
 ],
 "metadata": {
  "kernelspec": {
   "display_name": "Python 3",
   "language": "python",
   "name": "python3"
  },
  "language_info": {
   "codemirror_mode": {
    "name": "ipython",
    "version": 3
   },
   "file_extension": ".py",
   "mimetype": "text/x-python",
   "name": "python",
   "nbconvert_exporter": "python",
   "pygments_lexer": "ipython3",
   "version": "3.8.5"
  }
 },
 "nbformat": 4,
 "nbformat_minor": 4
}
