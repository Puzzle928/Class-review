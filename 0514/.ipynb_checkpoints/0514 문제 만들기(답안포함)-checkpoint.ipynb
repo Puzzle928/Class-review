{
 "cells": [
  {
   "cell_type": "markdown",
   "metadata": {},
   "source": [
    "미션 1) 음식 배달비 최종 결제 금액 계산하기\n",
    "\n",
    "pizza = 15,000원\n",
    "spaghetti = 8,000원\n",
    "cola = 2000원\n",
    "\n",
    "주문자에게 pizza, spaghetti, cola를 각각 몇개씩 주문할 지 물어보고, \n",
    "음식의 총 합이 30,000원 이상이면 배달비 0원, cheeseball 을 증정\n",
    "음식의 총 합이 20,000원 이상 30,000원 미만이면 배달비 0원\n",
    "음식의 총 합이 20,000원 미만이면 배달비 2,000원을 부과 한다고 가정할 경우\n",
    "음식 배달비의 최종 결제 금액을 계산하는 프로그램을 만드시오."
   ]
  },
  {
   "cell_type": "code",
   "execution_count": null,
   "metadata": {},
   "outputs": [],
   "source": [
    "pizza = 15000\n",
    "spaghetti = 8000\n",
    "cola = 2000\n",
    "\n",
    "def total(a,b,c):\n",
    "    price = (pizza*a + spaghetti*b + cola*c)\n",
    "    if price >= 30000:\n",
    "        print(\"총 금액은 {}원이며, 치즈볼 서비스가 나갑니다.\".format(price))\n",
    "    elif price >= 20000:\n",
    "        print(\"총 금액은 {}원입니다.\".format(price))\n",
    "    else:\n",
    "        print(\"총 금액은 배달비 2000원 추가되어 {}원입니다.\".format(price+2000))\n",
    "x = int(input(\"피자를 몇 판 주문하시나요? \"))\n",
    "y = int(input(\"스파게티를 몇 개 주문하시나요? \"))\n",
    "z = int(input(\"콜라를 몇 개 주문하시나요? \"))\n",
    "\n",
    "total(x,y,z)\n"
   ]
  },
  {
   "cell_type": "markdown",
   "metadata": {},
   "source": [
    "미션 2) 회전 초밥의 최종 결제 금액 계산하기\n",
    "\n",
    "박 사장이 운영하는 회전 초밥집은 대박이 나서 계산을 하는 일손이 부족한 실정이다.박 사장은 손님이 먹은 접시의 색을 구분하고 계산하는 기계를 요청했고 업체는 색을 구분하는 소프트웨어를 개발했다. 색을 구분한 결과가 리스트 타입으로 주어졌을 때 최종 금액을 계산하는 프로그램을 작성하시오. \n",
    "\n",
    "black : 4000\n",
    "red : 3500\n",
    "green : 3000\n",
    "yellow : 2500\n",
    "\n",
    "예시 : [\"red\", \"black\", \"green\", \"green\", \"yellow\", \"red\", \"green\", \"red\", \"black\", \"yellow\"]"
   ]
  },
  {
   "cell_type": "code",
   "execution_count": 3,
   "metadata": {},
   "outputs": [
    {
     "data": {
      "text/plain": [
       "(32500, 10)"
      ]
     },
     "execution_count": 3,
     "metadata": {},
     "output_type": "execute_result"
    }
   ],
   "source": [
    "def sushi_price(color_list):\n",
    "    black = 0\n",
    "    red = 0\n",
    "    green = 0\n",
    "    yellow = 0\n",
    "    \n",
    "    for color in color_list:\n",
    "        if color == 'black':\n",
    "            black += 1\n",
    "        elif color == 'red':\n",
    "            red += 1\n",
    "        elif color == 'green':\n",
    "            green += 1\n",
    "        else:\n",
    "            yellow += 1\n",
    "            \n",
    "    total_price = black * 4000 + red * 3500 + green *3000 + yellow * 2500\n",
    "    total_plate = black + red + green + yellow\n",
    "    \n",
    "    return total_price, total_plate\n",
    "\n",
    "color_list = [\"red\", \"black\", \"green\", \"green\", \"yellow\", \"red\", \"green\", \"red\", \"black\", \"yellow\"]\n",
    "sushi_price(color_list)"
   ]
  },
  {
   "cell_type": "code",
   "execution_count": 14,
   "metadata": {},
   "outputs": [
    {
     "ename": "SyntaxError",
     "evalue": "invalid syntax (<ipython-input-14-abefb718e690>, line 11)",
     "output_type": "error",
     "traceback": [
      "\u001b[1;36m  File \u001b[1;32m\"<ipython-input-14-abefb718e690>\"\u001b[1;36m, line \u001b[1;32m11\u001b[0m\n\u001b[1;33m    return black = 4000\u001b[0m\n\u001b[1;37m                 ^\u001b[0m\n\u001b[1;31mSyntaxError\u001b[0m\u001b[1;31m:\u001b[0m invalid syntax\n"
     ]
    }
   ],
   "source": [
    "# 처음 plate 갯수\n",
    "black = 0\n",
    "red = 0\n",
    "green = 0\n",
    "yellow = 0\n",
    "\n",
    "\n",
    "def sushi_price(color_list):\n",
    "    for color in color_list:\n",
    "        if color == \"black\":\n",
    "            return black = 4000\n",
    "        elif color == \"red\":\n",
    "            return red = 3500\n",
    "        elif color == \"green\":\n",
    "            return = 3000\n",
    "        else:\n",
    "            return yellow = 2500    \n",
    "\n",
    "color_list = [\"red\", \"black\", \"green\", \"green\", \"yellow\", \"red\", \"green\", \"red\", \"black\", \"yellow\"]\n",
    "\n",
    "total_price = for color in color_list\n",
    "print(color)"
   ]
  },
  {
   "cell_type": "code",
   "execution_count": null,
   "metadata": {},
   "outputs": [],
   "source": []
  },
  {
   "cell_type": "code",
   "execution_count": null,
   "metadata": {},
   "outputs": [],
   "source": []
  }
 ],
 "metadata": {
  "kernelspec": {
   "display_name": "Python 3",
   "language": "python",
   "name": "python3"
  },
  "language_info": {
   "codemirror_mode": {
    "name": "ipython",
    "version": 3
   },
   "file_extension": ".py",
   "mimetype": "text/x-python",
   "name": "python",
   "nbconvert_exporter": "python",
   "pygments_lexer": "ipython3",
   "version": "3.8.5"
  }
 },
 "nbformat": 4,
 "nbformat_minor": 4
}
