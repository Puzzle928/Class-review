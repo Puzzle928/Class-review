{
 "cells": [
  {
   "cell_type": "markdown",
   "metadata": {},
   "source": [
    "미션 1) 음식 배달비 최종 결제 금액 계산하기\n",
    "\n",
    "pizza = 15,000원\n",
    "spaghetti = 8,000원\n",
    "cola = 2000원\n",
    "\n",
    "주문자에게 pizza, spaghetti, cola를 각각 몇개씩 주문할 지 물어보고, \n",
    "음식의 총 합이 30,000원 이상이면 배달비 0원, cheeseball 을 증정\n",
    "음식의 총 합이 20,000원 이상 30,000원 미만이면 배달비 0원\n",
    "음식의 총 합이 20,000원 미만이면 배달비 2,000원을 부과 한다고 가정할 경우\n",
    "음식 배달비의 최종 결제 금액을 계산하는 프로그램을 만드시오."
   ]
  },
  {
   "cell_type": "code",
   "execution_count": null,
   "metadata": {},
   "outputs": [],
   "source": []
  },
  {
   "cell_type": "markdown",
   "metadata": {},
   "source": [
    "미션 2) 회전 초밥의 최종 결제 금액 계산하기\n",
    "\n",
    "박 사장이 운영하는 회전 초밥집은 대박이 나서 계산을 하는 일손이 부족한 실정이다.박 사장은 손님이 먹은 접시의 색을 구분하고 계산하는 기계를 요청했고 업체는 색을 구분하는 소프트웨어를 개발했다. 색을 구분한 결과가 리스트 타입으로 주어졌을 때 최종 금액을 계산하는 프로그램을 작성하시오. \n",
    "\n",
    "black : 4000\n",
    "red : 3500\n",
    "green : 3000\n",
    "yellow : 2500\n",
    "\n",
    "예시 : [\"red\", \"black\", \"green\", \"green\", \"yellow\", \"red\", \"green\", \"red\", \"black\", \"yellow\"]"
   ]
  },
  {
   "cell_type": "code",
   "execution_count": null,
   "metadata": {},
   "outputs": [],
   "source": []
  }
 ],
 "metadata": {
  "kernelspec": {
   "display_name": "Python 3",
   "language": "python",
   "name": "python3"
  },
  "language_info": {
   "codemirror_mode": {
    "name": "ipython",
    "version": 3
   },
   "file_extension": ".py",
   "mimetype": "text/x-python",
   "name": "python",
   "nbconvert_exporter": "python",
   "pygments_lexer": "ipython3",
   "version": "3.8.5"
  }
 },
 "nbformat": 4,
 "nbformat_minor": 4
}
