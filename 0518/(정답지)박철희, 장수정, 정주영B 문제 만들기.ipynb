{
 "cells": [
  {
   "cell_type": "markdown",
   "metadata": {},
   "source": [
    "# 문제1번\n",
    "**<보기>로 제시된 단어들 중 랜덤으로 나온 단어로 3행시를 짓는 프로그램을 만드시오. (단, 아래의 조건이 모두 충족되어야 함.)**\n",
    "\n",
    "<hr>\n",
    "\n",
    "**<보기>**\n",
    "\n",
    "\n",
    "[파이썬, 유재석, 백종원, 엔코아, 피아노, 바나나]\n",
    "\n",
    "<hr>\n",
    "\n",
    "**<조건>**\n",
    "1. 보기에 제시된 단어가 랜덤 리스트에 다 들어가야 함. 더 추가되거나 없으면 안됨.\n",
    "2. 랜덤으로 뽑인 단어의 음절마다 각각 입력값을 받아야 함.\n",
    "3. 제시된 각각의 음절과 입력값을 첫 글자가 같지 않다면, 아래와 같은 문구가 각각 나와야 함.<br>\n",
    "   \"뽑힌 단어의 n번째 글자와 입력한 시작 글자가 다릅니다. 알맞게 입력해 주세요.\"\n",
    "   \n",
    "<hr>\n",
    "\n",
    "**<출력값 예시>**\n",
    "\n",
    "\n",
    "랜덤으로 뽑힌 단어는 '박명수' 입니다.<br>\n",
    "박 ! 박식하기 그지없고<br>\n",
    "명 ! 명석한 두뇌를 가진<br>\n",
    "수 ! 명수옹<br>\n",
    "뽑힌 단어의 세번째 글자와 입력한 시작 글자가 다릅니다. 알맞게 입력해 주세요.\n"
   ]
  },
  {
   "cell_type": "code",
   "execution_count": null,
   "metadata": {},
   "outputs": [
    {
     "name": "stdout",
     "output_type": "stream",
     "text": [
      "랜덤으로 뽑힌 단어는 '박명수' 입니다.\n"
     ]
    }
   ],
   "source": [
    "word_list = ['유재석', '박명수', '정준하', '정형돈', '노홍철', '하동훈']\n",
    "\n",
    "import random\n",
    "word = random.choice(word_list)\n",
    "\n",
    "print(\"랜덤으로 뽑힌 단어는 '{}' 입니다.\".format(word))\n",
    "\n",
    "word1 = input('{} ! '.format(word[0]))\n",
    "word2 = input('{} ! '.format(word[1]))\n",
    "word3 = input('{} ! '.format(word[2]))\n",
    "\n",
    "if str(word[0]) != str(word1[0]): \n",
    "    print(\"뽑힌 단어의 첫번째 글자와 입력한 시작 글자가 다릅니다. 알맞게 입력해 주세요.\")\n",
    "if str(word[1]) != str(word2[0]):\n",
    "    print(\"뽑힌 단어의 두번째 글자와 입력한 시작 글자가 다릅니다. 알맞게 입력해 주세요.\")\n",
    "if str(word[2]) != str(word3[0]):\n",
    "    print(\"뽑힌 단어의 세번째 글자와 입력한 시작 글자가 다릅니다. 알맞게 입력해 주세요.\")"
   ]
  },
  {
   "cell_type": "markdown",
   "metadata": {},
   "source": [
    "# 문제2번\n",
    "**random 함수를 이용해 난수 n개를 발생시켜 list에 담고, list내부 원소들의 개수를 dictionary에 담아 각 숫자의 개수를 출력하시오.<br>\n",
    "used functions: random, for, if, sorted, sorted(dic.items())**\n",
    "\n",
    "<hr>\n",
    "\n",
    "'''\n",
    "출력 예시\n",
    "[0, 1, 2, 3, 4, 6, 6, 9, 10, 10, 11, 11, 11, 13, 14, 15]\n",
    "[(0, 1), (1, 1), (2, 1), (3, 1), (4, 1), (6, 2), (9, 1), (10, 2), (11, 3), (13, 1), (14, 1), (15, 1)]\n",
    "'''"
   ]
  },
  {
   "cell_type": "code",
   "execution_count": 3,
   "metadata": {},
   "outputs": [
    {
     "name": "stdout",
     "output_type": "stream",
     "text": [
      "[0, 0, 3, 4, 4, 4, 5, 6, 8, 9, 9, 10, 11, 11, 14, 15]\n",
      "[(0, 2), (3, 1), (4, 3), (5, 1), (6, 1), (8, 1), (9, 2), (10, 1), (11, 2), (14, 1), (15, 1)]\n"
     ]
    }
   ],
   "source": [
    "# random 함수를 이용해 난수 n개를 발생시켜 list에 담고, list내부 원소들의 개수를 dictionary에 담아 각 숫자의 개수를 출력하시오.\n",
    "# used functions: random, for, if, sorted, sorted(dic.items())\n",
    "import random\n",
    "rnc = 15   # random number count\n",
    "rnl = []   # random number list\n",
    "ncd = {}   # number check dict\n",
    "for i in range(rnc+1):\n",
    "    a = random.randrange(rnc+1)\n",
    "    rnl.append(a)\n",
    "    if a not in ncd:\n",
    "        ncd[a] = 1       \n",
    "    elif a in ncd:\n",
    "        ncd[a] += 1\n",
    "print(sorted(rnl))\n",
    "print(sorted(ncd.items()))"
   ]
  },
  {
   "cell_type": "markdown",
   "metadata": {},
   "source": [
    "# 문제3번\n",
    "**reduce 함수를 이용해 n factoiral을 출력하는 프로그램을 작성하시오.<br>\n",
    "used functions : reduce, lambda**\n",
    "\n",
    "<hr>\n",
    "\n",
    "'''\n",
    "출력 예시\n",
    "120\n",
    "'''"
   ]
  },
  {
   "cell_type": "code",
   "execution_count": 4,
   "metadata": {},
   "outputs": [
    {
     "name": "stdout",
     "output_type": "stream",
     "text": [
      "[0, 0, 0, 3, 3, 4, 4, 4, 7, 7, 9, 14, 15, 15, 15, 15]\n",
      "[(0, 3), (3, 2), (4, 3), (7, 2), (9, 1), (14, 1), (15, 4)]\n"
     ]
    }
   ],
   "source": [
    "import random\n",
    "rnc = 15   # random number count\n",
    "rnl = []   # random number list\n",
    "ncd = {}   # number check dict\n",
    "for i in range(rnc+1):\n",
    "    a = random.randrange(rnc+1)\n",
    "    rnl.append(a)\n",
    "    if a not in ncd:\n",
    "        ncd[a] = 1       \n",
    "    elif a in ncd:\n",
    "        ncd[a] += 1\n",
    "print(sorted(rnl))\n",
    "print(sorted(ncd.items()))"
   ]
  },
  {
   "cell_type": "markdown",
   "metadata": {},
   "source": [
    "# 문제4번\n",
    "**로또 번호 생성기 1~45번호를 겹치지않게 생성하시오.<br>\n",
    "반복할 게임수를 설정하시오**"
   ]
  },
  {
   "cell_type": "code",
   "execution_count": null,
   "metadata": {},
   "outputs": [
    {
     "name": "stdout",
     "output_type": "stream",
     "text": [
      "로또 번호 생성기 입니다\n"
     ]
    }
   ],
   "source": [
    "import random   # random이라는 library 사용하겠다 또는 random 이라는 moudle 사용하겠다..\n",
    "count = 0    #초기 count값 설정\n",
    "print(\"로또 번호 생성기 입니다\")\n",
    "num = input(\"몇개를 생성하시겠습니까 : \")  #반복할 게임수 입력\n",
    "while count < int(num):  # 입력한 게임수(num)만큼 반복\n",
    "    count += 1\n",
    "    lotto = set()        #중복 숫자 방지를 위하여 set으로 저장\n",
    "    lotto_list = []      #lotto_list 정의\n",
    "    while len(lotto) < 6 :   #lotto의 길이가 6이되면 끝나게 만들기위한식\n",
    "        lotto.add(random.randrange(1,46)) #lotto라는 set에 랜덤1~45까지의 랜덤 변수 추가하기\n",
    "                                          #만약 중복숫자가 나온다면 set으로 저장했기 때문에 lotto는 변하지않는다\n",
    "    lotto_list = list(lotto) # set을 list의 형태로 저장\n",
    "    lotto_list.sort()      #sort를 활용해서 오름차순으로 정렬\n",
    "    print(lotto_list)\n",
    "print(\"이용해주셔서 감사합니다\")"
   ]
  }
 ],
 "metadata": {
  "kernelspec": {
   "display_name": "Python 3",
   "language": "python",
   "name": "python3"
  },
  "language_info": {
   "codemirror_mode": {
    "name": "ipython",
    "version": 3
   },
   "file_extension": ".py",
   "mimetype": "text/x-python",
   "name": "python",
   "nbconvert_exporter": "python",
   "pygments_lexer": "ipython3",
   "version": "3.8.5"
  }
 },
 "nbformat": 4,
 "nbformat_minor": 4
}
