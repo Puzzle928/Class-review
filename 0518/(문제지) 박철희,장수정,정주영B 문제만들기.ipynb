{
 "cells": [
  {
   "cell_type": "markdown",
   "metadata": {},
   "source": [
    "# 문제1번\n",
    "**<보기>로 제시된 단어들 중 랜덤으로 나온 단어로 3행시를 짓는 프로그램을 만드시오. (단, 아래의 조건이 모두 충족되어야 함.)**\n",
    "\n",
    "<hr>\n",
    "\n",
    "**<보기>**\n",
    "\n",
    "\n",
    "[파이썬, 유재석, 백종원, 엔코아, 피아노, 바나나]\n",
    "\n",
    "<hr>\n",
    "\n",
    "**<조건>**\n",
    "1. 보기에 제시된 단어가 랜덤 리스트에 다 들어가야 함. 더 추가되거나 없으면 안됨.\n",
    "2. 랜덤으로 뽑인 단어의 음절마다 각각 입력값을 받아야 함.\n",
    "3. 제시된 각각의 음절과 입력값을 첫 글자가 같지 않다면, 아래와 같은 문구가 각각 나와야 함.<br>\n",
    "   \"뽑힌 단어의 n번째 글자와 입력한 시작 글자가 다릅니다. 알맞게 입력해 주세요.\"\n",
    "   \n",
    "<hr>\n",
    "\n",
    "**<출력값 예시>**\n",
    "\n",
    "\n",
    "랜덤으로 뽑힌 단어는 '박명수' 입니다.<br>\n",
    "박 ! 박식하기 그지없고<br>\n",
    "명 ! 명석한 두뇌를 가진<br>\n",
    "수 ! 명수옹<br>\n",
    "뽑힌 단어의 세번째 글자와 입력한 시작 글자가 다릅니다. 알맞게 입력해 주세요.\n"
   ]
  },
  {
   "cell_type": "code",
   "execution_count": null,
   "metadata": {},
   "outputs": [],
   "source": []
  },
  {
   "cell_type": "markdown",
   "metadata": {},
   "source": [
    "# 문제2번\n",
    "**random 함수를 이용해 난수 n개를 발생시켜 list에 담고, list내부 원소들의 개수를 dictionary에 담아 각 숫자의 개수를 출력하시오.<br>\n",
    "used functions: random, for, if, sorted, sorted(dic.items())**\n",
    "\n",
    "<hr>\n",
    "\n",
    "'''\n",
    "출력 예시\n",
    "[0, 1, 2, 3, 4, 6, 6, 9, 10, 10, 11, 11, 11, 13, 14, 15]\n",
    "[(0, 1), (1, 1), (2, 1), (3, 1), (4, 1), (6, 2), (9, 1), (10, 2), (11, 3), (13, 1), (14, 1), (15, 1)]\n",
    "'''"
   ]
  },
  {
   "cell_type": "code",
   "execution_count": null,
   "metadata": {},
   "outputs": [],
   "source": []
  },
  {
   "cell_type": "markdown",
   "metadata": {},
   "source": [
    "# 문제3번\n",
    "**# reduce 함수를 이용해 n factoiral을 출력하는 프로그램을 작성하시오.<br>\n",
    "used functions : reduce, lambda**\n",
    "\n",
    "<hr>\n",
    "\n",
    "'''\n",
    "출력 예시\n",
    "120\n",
    "'''"
   ]
  },
  {
   "cell_type": "code",
   "execution_count": null,
   "metadata": {},
   "outputs": [],
   "source": []
  }
 ],
 "metadata": {
  "kernelspec": {
   "display_name": "Python 3",
   "language": "python",
   "name": "python3"
  },
  "language_info": {
   "codemirror_mode": {
    "name": "ipython",
    "version": 3
   },
   "file_extension": ".py",
   "mimetype": "text/x-python",
   "name": "python",
   "nbconvert_exporter": "python",
   "pygments_lexer": "ipython3",
   "version": "3.8.5"
  }
 },
 "nbformat": 4,
 "nbformat_minor": 4
}
