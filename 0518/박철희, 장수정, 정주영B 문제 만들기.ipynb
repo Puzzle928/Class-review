{
 "cells": [
  {
   "cell_type": "markdown",
   "metadata": {},
   "source": [
    "# 문제\n",
    "**<보기>로 제시된 단어들 중 랜덤으로 나온 단어로 3행시를 짓는 프로그램을 만드시오. (단, 아래의 조건이 모두 충족되어야 함.)**\n",
    "\n",
    "<hr>\n",
    "\n",
    "**<보기>**\n",
    "\n",
    "\n",
    "[파이썬, 유재석, 백종원, 엔코아, 피아노, 바나나]\n",
    "\n",
    "<hr>\n",
    "\n",
    "**<조건>**\n",
    "1. 보기에 제시된 단어가 랜덤 리스트에 다 들어가야 함. 더 추가되거나 없으면 안됨.\n",
    "2. 랜덤으로 뽑인 단어의 음절마다 각각 입력값을 받아야 함.\n",
    "3. 제시된 각각의 음절과 입력값을 첫 글자가 같지 않다면, 아래와 같은 문구가 각각 나와야 함.<br>\n",
    "   \"뽑힌 단어의 n번째 글자와 입력한 시작 글자가 다릅니다. 알맞게 입력해 주세요.\"\n",
    "   \n",
    "<hr>\n",
    "\n",
    "**<출력값 예시>**\n",
    "\n",
    "\n",
    "랜덤으로 뽑힌 단어는 '박명수' 입니다.<br>\n",
    "박 ! 박식하기 그지없고<br>\n",
    "명 ! 명석한 두뇌를 가진<br>\n",
    "수 ! 명수옹<br>\n",
    "뽑힌 단어의 세번째 글자와 입력한 시작 글자가 다릅니다. 알맞게 입력해 주세요.\n"
   ]
  },
  {
   "cell_type": "code",
   "execution_count": 129,
   "metadata": {},
   "outputs": [
    {
     "name": "stdout",
     "output_type": "stream",
     "text": [
      "랜덤으로 뽑힌 단어는 '박명수' 입니다.\n",
      "박 ! 박식하기 그지없고\n",
      "명 ! 명석한 두뇌를 가진\n",
      "수 ! 명수옹\n",
      "뽑힌 단어의 세번째 글자와 입력한 시작 글자가 다릅니다. 알맞게 입력해 주세요.\n"
     ]
    }
   ],
   "source": [
    "word_list = ['유재석', '박명수', '정준하', '정형돈', '노홍철', '하동훈']\n",
    "\n",
    "import random\n",
    "word = random.choice(word_list)\n",
    "\n",
    "print(\"랜덤으로 뽑힌 단어는 '{}' 입니다.\".format(word))\n",
    "\n",
    "word1 = input('{} ! '.format(word[0]))\n",
    "word2 = input('{} ! '.format(word[1]))\n",
    "word3 = input('{} ! '.format(word[2]))\n",
    "\n",
    "if str(word[0]) != str(word1[0]): \n",
    "    print(\"뽑힌 단어의 첫번째 글자와 입력한 시작 글자가 다릅니다. 알맞게 입력해 주세요.\")\n",
    "if str(word[1]) != str(word2[0]):\n",
    "    print(\"뽑힌 단어의 두번째 글자와 입력한 시작 글자가 다릅니다. 알맞게 입력해 주세요.\")\n",
    "if str(word[2]) != str(word3[0]):\n",
    "    print(\"뽑힌 단어의 세번째 글자와 입력한 시작 글자가 다릅니다. 알맞게 입력해 주세요.\")"
   ]
  }
 ],
 "metadata": {
  "kernelspec": {
   "display_name": "Python 3",
   "language": "python",
   "name": "python3"
  },
  "language_info": {
   "codemirror_mode": {
    "name": "ipython",
    "version": 3
   },
   "file_extension": ".py",
   "mimetype": "text/x-python",
   "name": "python",
   "nbconvert_exporter": "python",
   "pygments_lexer": "ipython3",
   "version": "3.8.5"
  }
 },
 "nbformat": 4,
 "nbformat_minor": 4
}
